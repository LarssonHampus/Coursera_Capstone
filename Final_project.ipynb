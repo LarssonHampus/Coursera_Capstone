{
  "nbformat": 4,
  "nbformat_minor": 0,
  "metadata": {
    "colab": {
      "name": "Final_project.ipynb",
      "version": "0.3.2",
      "provenance": []
    },
    "kernelspec": {
      "name": "python3",
      "display_name": "Python 3"
    }
  },
  "cells": [
    {
      "cell_type": "markdown",
      "metadata": {
        "id": "sXT29YFBNyEL",
        "colab_type": "text"
      },
      "source": [
        "# Opening of a grocery store in Toronto"
      ]
    },
    {
      "cell_type": "markdown",
      "metadata": {
        "id": "-xZkjDy2N3kF",
        "colab_type": "text"
      },
      "source": [
        "**Introduction**\n",
        "\n",
        "Toronto is a large city with a population of about 6 million in the greater Toronto area and about 3 million in the Toronto city area [1]. This population will continue to grow and there is a room for opening new stores to fufill this continues growth. However, to gain competitive advantage companies should consider the neighborhood and analyze which has the greatest potential. Factors to be analyzed area, population in the neighborhood, competition in the neighborhood, and potential to open more stores in similair areas. \n",
        "\n",
        "\n",
        "[1] http://worldpopulationreview.com/world-cities/toronto-population/ "
      ]
    },
    {
      "cell_type": "markdown",
      "metadata": {
        "id": "YiT_mNtlQi7m",
        "colab_type": "text"
      },
      "source": [
        "**Business problem**\n",
        "\n",
        "A grocery store company named BestGrocery want to open their first store in Toronto. They want to gain first entrant advantage by being the first grocery store company in the neighborhood. This advantage is going to be used to leverage themselves into similair neighborhoods and gain a large total market share fast. However, they are not sure where their first, and most important , store should be openend. Therefore they want to do analysis and base their decision on that analysis. "
      ]
    },
    {
      "cell_type": "markdown",
      "metadata": {
        "id": "Pb-cZ3zvRp7g",
        "colab_type": "text"
      },
      "source": [
        "**Data**\n",
        "\n",
        "The data we need is data on the neighbourhoods and what stores they have and the population in each neighborhood. The neighborhood data can be accessed through the Foursquare API, however the population data is hard to access in a good format. Therefore, we will get the data by scraping information from wikipedia. \n",
        "\n",
        "The data from the Foursquare  API contains the:\n",
        "- Nearby venues\n",
        "\n",
        "The data that can be scraped contains:\n",
        "- Neighborhood\n",
        "- Borough\n",
        "- Postalcode \n",
        "- Population\n",
        "- Latitude \n",
        "- Longitude \n",
        "\n",
        "We want to combine this data into a single, cleaned, and formated dataframe such that we can explore the dataframe.\n",
        "\n"
      ]
    },
    {
      "cell_type": "code",
      "metadata": {
        "id": "gZ_vDVuFZbmA",
        "colab_type": "code",
        "colab": {}
      },
      "source": [
        ""
      ],
      "execution_count": 0,
      "outputs": []
    }
  ]
}